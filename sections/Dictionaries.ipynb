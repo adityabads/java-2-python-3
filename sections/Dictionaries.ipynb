{
 "cells": [
  {
   "cell_type": "markdown",
   "metadata": {},
   "source": [
    "# Dictionaries {\"Java\" => \"Maps\", \"Python\" => \"Dictionaries\"}"
   ]
  },
  {
   "cell_type": "markdown",
   "metadata": {},
   "source": [
    "Python has a structure called a dictionary which is very similar to Java's `Map`. It is pretty similar to use them, with only some syntactic differences. In Java\n",
    "\n",
    "```java\n",
    "Map<String, Integer> students = new HashMap<String, Integer>();\n",
    "students.put(\"Josh\", 12345);\n",
    "students.put(\"Erika\", 11111);\n",
    "if (students.containsKey(\"Erika\")) {\n",
    "    students.put(\"Erika\", students.get(\"Erika\") * 2);\n",
    "}\n",
    "\n",
    "for (String name : students.keyset()) {\n",
    "    System.out.println(name + \" - \" + students.get(name));\n",
    "}\n",
    "\n",
    "System.out.println(students.get(\"Nicole\"));\n",
    "System.out.println(students)\n",
    "// Output:\n",
    "// Josh - 12345\n",
    "// Erika - 22222\n",
    "// null\n",
    "// {Josh=12345, Erika=22222}\n",
    "```\n",
    "In Python"
   ]
  },
  {
   "cell_type": "code",
   "execution_count": 1,
   "metadata": {},
   "outputs": [
    {
     "name": "stdout",
     "output_type": "stream",
     "text": [
      "Josh - 12345\n",
      "Erika - 22222\n",
      "{'Josh': 12345, 'Erika': 22222}\n"
     ]
    }
   ],
   "source": [
    "students = {}\n",
    "students['Josh'] = 12345;\n",
    "students['Erika'] = 11111;\n",
    "\n",
    "# The in operator works for dictionaries too!\n",
    "if 'Erika' in students:\n",
    "    students['Erika'] = students['Erika'] * 2 \n",
    "    # Could have also written: students['Erika'] *= 2\n",
    "\n",
    "# This is just a foreach loop over the keys in the dictionary\n",
    "for name in students.keys():\n",
    "    print(name + ' - ' + str(students[name]))\n",
    "    \n",
    "print(students)\n",
    "\n",
    "# print(students['Nicole']) Causes an error because there is no entry for that! "
   ]
  },
  {
   "cell_type": "markdown",
   "metadata": {},
   "source": [
    "Some of you have heard the analogy that in Java, `Map`s are like arrays where you can use another type as the indices; as you can see from the Python example that they really take this idea to heart and let you use the array syntax you are used to on dictionaries.\n",
    "\n",
    "You can also mix types for the keys and values in Python like you can for any structure; pretty much any type works for the keys (must be hashable) and the values can be any type. You generally don't use many of the methods for dictionaries so I will leave it as an exercise to the reader to look up the documentation for dictionaries to see which methods are available.\n",
    "\n",
    "As usual, Python also provides nice ways of initializing a dictionary and suprisingly enough you are able to use dictionary comprehensions just like lists! "
   ]
  },
  {
   "cell_type": "code",
   "execution_count": 2,
   "metadata": {},
   "outputs": [
    {
     "name": "stdout",
     "output_type": "stream",
     "text": [
      "{'Josh': 12345, 'Erika': 11111}\n",
      "{'Josh': 1, 'Erika': 6}\n"
     ]
    }
   ],
   "source": [
    "students = {'Josh': 12345, 'Erika': 11111}\n",
    "print(students)\n",
    "\n",
    "names = ['Hunter', 'Josh', 'Erik', 'Dylan', 'Joely', 'Nicole', 'Erika']\n",
    "\n",
    "indices = {                 # Step 4) Put all the values in a dictionary \n",
    "    name: names.index(name) # Step 3) What key, value pair do you want? Syntax is key: value\n",
    "    for name in names       # Step 1) What are you looping over and what is the loop variable?\n",
    "    if name in students     # Step 2 [Optional]) Only use this element from Step 1 if it satisfies this condition\n",
    "}\n",
    "# Note: names.index(name) returns the index of name in names\n",
    "print(indices)\n"
   ]
  }
 ],
 "metadata": {
  "kernelspec": {
   "display_name": "Python 3",
   "language": "python",
   "name": "python3"
  },
  "language_info": {
   "codemirror_mode": {
    "name": "ipython",
    "version": 3
   },
   "file_extension": ".py",
   "mimetype": "text/x-python",
   "name": "python",
   "nbconvert_exporter": "python",
   "pygments_lexer": "ipython3",
   "version": "3.7.1"
  }
 },
 "nbformat": 4,
 "nbformat_minor": 2
}
