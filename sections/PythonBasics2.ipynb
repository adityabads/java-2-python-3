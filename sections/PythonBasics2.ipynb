{
 "cells": [
  {
   "cell_type": "markdown",
   "metadata": {},
   "source": [
    "## Strings"
   ]
  },
  {
   "cell_type": "markdown",
   "metadata": {},
   "source": [
    "You can also make variables that hold Strings and concatenate them with numbers. \n",
    "```java\n",
    "String name = \"Hunter\";\n",
    "int age = 24;\n",
    "System.out.println(\"My name is \" + name + \" and I'm \" + age + \" years old\");\n",
    "// Ouptut: My name is Hunter and I'm 23 years old\n",
    "```\n",
    "\n",
    "In Python it looks like the following. Notice that you can use either single quotes or double quotes around String in Python. It doesn't matter which you use, but being consistent is most important. "
   ]
  },
  {
   "cell_type": "code",
   "execution_count": 1,
   "metadata": {},
   "outputs": [
    {
     "ename": "TypeError",
     "evalue": "can only concatenate str (not \"int\") to str",
     "output_type": "error",
     "traceback": [
      "\u001b[0;31m---------------------------------------------------------------------------\u001b[0m",
      "\u001b[0;31mTypeError\u001b[0m                                 Traceback (most recent call last)",
      "\u001b[0;32m<ipython-input-1-06990ffcc720>\u001b[0m in \u001b[0;36m<module>\u001b[0;34m\u001b[0m\n\u001b[1;32m      1\u001b[0m \u001b[0mname\u001b[0m \u001b[0;34m=\u001b[0m \u001b[0;34m'Hunter'\u001b[0m\u001b[0;34m\u001b[0m\u001b[0;34m\u001b[0m\u001b[0m\n\u001b[1;32m      2\u001b[0m \u001b[0mage\u001b[0m \u001b[0;34m=\u001b[0m \u001b[0;36m24\u001b[0m\u001b[0;34m\u001b[0m\u001b[0;34m\u001b[0m\u001b[0m\n\u001b[0;32m----> 3\u001b[0;31m \u001b[0mprint\u001b[0m\u001b[0;34m(\u001b[0m\u001b[0;34m'My name is '\u001b[0m \u001b[0;34m+\u001b[0m \u001b[0mname\u001b[0m \u001b[0;34m+\u001b[0m \u001b[0;34m\" and I'm \"\u001b[0m \u001b[0;34m+\u001b[0m \u001b[0mage\u001b[0m \u001b[0;34m+\u001b[0m \u001b[0;34m' years old'\u001b[0m\u001b[0;34m)\u001b[0m\u001b[0;34m\u001b[0m\u001b[0;34m\u001b[0m\u001b[0m\n\u001b[0m",
      "\u001b[0;31mTypeError\u001b[0m: can only concatenate str (not \"int\") to str"
     ]
    }
   ],
   "source": [
    "name = 'Hunter'\n",
    "age = 24\n",
    "print('My name is ' + name + \" and I'm \" + age + ' years old')"
   ]
  },
  {
   "cell_type": "markdown",
   "metadata": {},
   "source": [
    "This is what an error in Python looks like. It shows the chain of method calls that caused there errors with the line that threw the error and the error message at the bottom. In Java, you are allowed to concatenate Strings and numbers freeely but in Python it only allows String concatentation between Strings and Strings. \n",
    "\n",
    "There is a blessing and a curse with how Python deals with types. You don't have to explictly list out types which can be convenient while writing code so you don't have to write things like `Map<String, List<Set<String>>`. However, it can be tedious to debug your program because you have to keep track in your head what all the variable types are when you are running into errors. \n",
    "\n",
    "To fix this, we do the equivalent of casting in Java to turn an int into a String. In Python Strings are called `str`"
   ]
  },
  {
   "cell_type": "code",
   "execution_count": 2,
   "metadata": {},
   "outputs": [
    {
     "name": "stdout",
     "output_type": "stream",
     "text": [
      "My name is Hunter and I'm 24 years old\n"
     ]
    }
   ],
   "source": [
    "name = 'Hunter'\n",
    "age = 24\n",
    "print('My name is ' + name + \" and I'm \" + str(age) + ' years old')"
   ]
  },
  {
   "cell_type": "markdown",
   "metadata": {},
   "source": [
    "To find the length of a string, you use the `len` function. You can also access the characters of a string using array syntax like you would in Java. Here is an example in Java: \n",
    "\n",
    "```java\n",
    "String name = \"Hunter\";\n",
    "System.out.println(name.charAt(0));\n",
    "System.out.println(name.charAt(name.length() - 1));\n",
    "```\n",
    "\n",
    "And in Python:"
   ]
  },
  {
   "cell_type": "code",
   "execution_count": 3,
   "metadata": {},
   "outputs": [
    {
     "name": "stdout",
     "output_type": "stream",
     "text": [
      "H\n",
      "r\n"
     ]
    }
   ],
   "source": [
    "name = 'Hunter'\n",
    "print(name[0])\n",
    "print(name[len(name) - 1])"
   ]
  },
  {
   "cell_type": "markdown",
   "metadata": {},
   "source": [
    "***Advanced***: \n",
    "What's really cool in Python is it provides nice syntax to get a \"splice\" of a String which represents a subset of the characters. It's hard to explain in general at first, so here are some examples."
   ]
  },
  {
   "cell_type": "code",
   "execution_count": 4,
   "metadata": {},
   "outputs": [
    {
     "name": "stdout",
     "output_type": "stream",
     "text": [
      "unter\n",
      "unte\n",
      "Hne\n",
      "retnuH\n"
     ]
    }
   ],
   "source": [
    "name = 'Hunter'\n",
    "\n",
    "# Get all characters but first\n",
    "print(name[1:])\n",
    "\n",
    "# Get all characters but first and last\n",
    "print(name[1:len(name)-1])\n",
    "\n",
    "# Get all characters at even indices\n",
    "print(name[0:len(name):2])\n",
    "\n",
    "# Get all characters in reverse order\n",
    "print(name[::-1])"
   ]
  },
  {
   "cell_type": "markdown",
   "metadata": {},
   "source": [
    "In general the rule here is:\n",
    "\n",
    "```\n",
    "s[<start-index>:<end-index>:<step>]\n",
    "```\n",
    "\n",
    "Where any of these parts can be left out and it will infer the right default value.\n",
    "\n",
    "You can get pretty tricky with these especially like in the last example by using a negative step size to go backwards. It's not the best use of your time memorizing all the weird things you can do with this"
   ]
  },
  {
   "cell_type": "markdown",
   "metadata": {},
   "source": [
    "## Methods (Functions)"
   ]
  },
  {
   "cell_type": "markdown",
   "metadata": {},
   "source": [
    "Most of the things you learned about methods in Java apply to methods in Python; the biggest difference is just how you define them, while the ideas of scope, parameters, returns all apply here. An example in Java\n",
    "\n",
    "```java\n",
    "public class Methods {\n",
    "    public static void main(String[] args) {\n",
    "        sayHello();\n",
    "        System.out.println(timesTwo(3));\n",
    "    }\n",
    "    \n",
    "    public static void sayHello() {\n",
    "        System.out.println(\"Hello world\");\n",
    "    }\n",
    "    \n",
    "    public static int timesTwo(int n) {\n",
    "        return 2 * n;\n",
    "    }\n",
    "}\n",
    "// Output: \n",
    "// Hello wiorld\n",
    "// 6\n",
    "```\n",
    "\n",
    "In Python"
   ]
  },
  {
   "cell_type": "code",
   "execution_count": 5,
   "metadata": {},
   "outputs": [
    {
     "name": "stdout",
     "output_type": "stream",
     "text": [
      "Hello world\n",
      "6\n"
     ]
    }
   ],
   "source": [
    "def main():\n",
    "    say_hello()\n",
    "    print(times_two(3))\n",
    "\n",
    "def say_hello():\n",
    "    print('Hello world')\n",
    "    \n",
    "def times_two(n):\n",
    "    return 2 * n\n",
    "\n",
    "if __name__  == '__main__':\n",
    "    main()"
   ]
  },
  {
   "cell_type": "markdown",
   "metadata": {},
   "source": [
    "Notice that the naming convention in Python is `snake_case` instead of `camelCase`. As you can see, parameters and returns work the same as they do in Java except that you leave off the types in their definitions. \n",
    "\n",
    "Instead of saying \"method\", Python people generally say \"function\". It generally doesn't matter, but that's probably the word you will see more often when reading about Python."
   ]
  },
  {
   "cell_type": "markdown",
   "metadata": {},
   "source": [
    "## \"And that's why you always leave a note\""
   ]
  },
  {
   "cell_type": "markdown",
   "metadata": {},
   "source": [
    "It's very important that you always document the functions you write so someone else knows what it does (or to remind yourself in the future!). In Java, you always write the comment above the method like so:\n",
    "\n",
    "```java\n",
    "// Returns the sum of the two given numbers\n",
    "public static int add(int a, int b) {\n",
    "    return a + b;\n",
    "}```\n",
    "\n",
    "In Python, we use the doc-string instead:"
   ]
  },
  {
   "cell_type": "code",
   "execution_count": 6,
   "metadata": {},
   "outputs": [],
   "source": [
    "def add(a, b):\n",
    "    \"\"\"\n",
    "    Returns the sum of the two given numbers\n",
    "    \"\"\"\n",
    "    return a + b"
   ]
  },
  {
   "cell_type": "markdown",
   "metadata": {},
   "source": [
    "This has to be in a String like this because it's actually built in to Python the fact that a function will have a doc-string. This lets you ask Python what a function does using the `help` function like in the below code example (assumes the one above was run)"
   ]
  },
  {
   "cell_type": "code",
   "execution_count": 7,
   "metadata": {},
   "outputs": [
    {
     "name": "stdout",
     "output_type": "stream",
     "text": [
      "Help on function add in module __main__:\n",
      "\n",
      "add(a, b)\n",
      "    Returns the sum of the two given numbers\n",
      "\n"
     ]
    }
   ],
   "source": [
    "help(add)"
   ]
  }
 ],
 "metadata": {
  "kernelspec": {
   "display_name": "Python 3",
   "language": "python",
   "name": "python3"
  },
  "language_info": {
   "codemirror_mode": {
    "name": "ipython",
    "version": 3
   },
   "file_extension": ".py",
   "mimetype": "text/x-python",
   "name": "python",
   "nbconvert_exporter": "python",
   "pygments_lexer": "ipython3",
   "version": "3.7.1"
  }
 },
 "nbformat": 4,
 "nbformat_minor": 2
}
