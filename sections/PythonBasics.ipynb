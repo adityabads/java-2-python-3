{
 "cells": [
  {
   "cell_type": "markdown",
   "metadata": {},
   "source": [
    "# Python Basics"
   ]
  },
  {
   "cell_type": "markdown",
   "metadata": {},
   "source": [
    "## Variables and Expressions"
   ]
  },
  {
   "cell_type": "markdown",
   "metadata": {},
   "source": [
    "Python has the same built-in types you are used to in Java (int, double, String). Variables are declared similarly but you don't have to explicitly list out the type of the variable like you do in Java. Mathematical expressions work basically the same as you would expect in Java.\n",
    "\n",
    "```java\n",
    "int x = 5;\n",
    "int y = 3;\n",
    "double z = 4.5;\n",
    "System.out.println(x + z - x / y);\n",
    "// Output: 8.5\n",
    "```\n",
    "\n",
    "In Python"
   ]
  },
  {
   "cell_type": "code",
   "execution_count": 4,
   "metadata": {},
   "outputs": [
    {
     "name": "stdout",
     "output_type": "stream",
     "text": [
      "8.5\n"
     ]
    }
   ],
   "source": [
    "x = 5\n",
    "y = 3\n",
    "z = 4.5\n",
    "print x + z - x / y"
   ]
  },
  {
   "cell_type": "markdown",
   "metadata": {},
   "source": [
    "Looks pretty similar, right?\n",
    "\n",
    "Notice that you don't need semicolons to separate lines! You can add them in if you want, but it's unecessary to do so. One thing that is a bit odd at first is that Python uses indentation to figure out code structure rather than forcing you to write semicolons. I'll repeat because this is so important. **Indentation matters in Python. Your code won't run if your indentation isn't consistent**"
   ]
  },
  {
   "cell_type": "markdown",
   "metadata": {},
   "source": [
    "Also notice that Python does integer division just like Java; this means if you want to get a real number as a result from division you have to make one of the numbers a double.\n",
    "\n",
    "One useful operator Python provides is for exponents. In Java you write\n",
    "\n",
    "```java\n",
    "System.out.println(Math.pow(2, 3));\n",
    "```\n",
    "\n",
    "While in Python"
   ]
  },
  {
   "cell_type": "code",
   "execution_count": 7,
   "metadata": {},
   "outputs": [
    {
     "name": "stdout",
     "output_type": "stream",
     "text": [
      "8\n"
     ]
    }
   ],
   "source": [
    "print 2 ** 3"
   ]
  },
  {
   "cell_type": "markdown",
   "metadata": {},
   "source": [
    "## Strings"
   ]
  },
  {
   "cell_type": "markdown",
   "metadata": {},
   "source": [
    "You can also make variables that hold Strings and concatenate them with numbers. \n",
    "```java\n",
    "String name = \"Hunter\";\n",
    "int age = 23;\n",
    "System.out.println(\"My name is \" + name + \" and I'm \" + age + \" years old\");\n",
    "// Ouptut: My name is Hunter and I'm 23 years old\n",
    "```\n",
    "\n",
    "In Python it looks like the following. Notice that you can use either single quotes or double quotes around String in Python. It doesn't matter which you use, but being consistent is most important."
   ]
  },
  {
   "cell_type": "code",
   "execution_count": 5,
   "metadata": {},
   "outputs": [
    {
     "ename": "TypeError",
     "evalue": "cannot concatenate 'str' and 'int' objects",
     "output_type": "error",
     "traceback": [
      "\u001b[0;31m---------------------------------------------------------------------------\u001b[0m",
      "\u001b[0;31mTypeError\u001b[0m                                 Traceback (most recent call last)",
      "\u001b[0;32m<ipython-input-5-afc932a855b8>\u001b[0m in \u001b[0;36m<module>\u001b[0;34m()\u001b[0m\n\u001b[1;32m      1\u001b[0m \u001b[0mname\u001b[0m \u001b[0;34m=\u001b[0m \u001b[0;34m'Hunter'\u001b[0m\u001b[0;34m\u001b[0m\u001b[0m\n\u001b[1;32m      2\u001b[0m \u001b[0mage\u001b[0m \u001b[0;34m=\u001b[0m \u001b[0;36m23\u001b[0m\u001b[0;34m\u001b[0m\u001b[0m\n\u001b[0;32m----> 3\u001b[0;31m \u001b[0;32mprint\u001b[0m \u001b[0;34m'My name is '\u001b[0m \u001b[0;34m+\u001b[0m \u001b[0mname\u001b[0m \u001b[0;34m+\u001b[0m \u001b[0;34m\" and I'm \"\u001b[0m \u001b[0;34m+\u001b[0m \u001b[0mage\u001b[0m \u001b[0;34m+\u001b[0m \u001b[0;34m' years old'\u001b[0m\u001b[0;34m\u001b[0m\u001b[0m\n\u001b[0m",
      "\u001b[0;31mTypeError\u001b[0m: cannot concatenate 'str' and 'int' objects"
     ]
    }
   ],
   "source": [
    "name = 'Hunter'\n",
    "age = 23\n",
    "print 'My name is ' + name + \" and I'm \" + age + ' years old'\n"
   ]
  },
  {
   "cell_type": "markdown",
   "metadata": {},
   "source": [
    "This is what an error in Python looks like. It shows the chain of method calls that caused there errors with the line that threw the error and the error message at the bottom. In Java, you are allowed to concatenate Strings and numbers freeely but in Python it only allows String concatentation between Strings and Strings. \n",
    "\n",
    "There is a blessing and a curse with how Python deals with types. You don't have to explictly list out types which can be convenient while writing code so you don't have to write things like `Map<String, List<Set<String>>`. However, it can be tedious to debug your program because you have to keep track in your head what all the variable types are when you are running into errors. \n",
    "\n",
    "To fix this, we do the equivalent of casting in Java to turn an int into a String. In Python Strings are called `str`"
   ]
  },
  {
   "cell_type": "code",
   "execution_count": 8,
   "metadata": {},
   "outputs": [
    {
     "name": "stdout",
     "output_type": "stream",
     "text": [
      "My name is Hunter and I'm 23 years old\n"
     ]
    }
   ],
   "source": [
    "name = 'Hunter'\n",
    "age = 23\n",
    "print 'My name is ' + name + \" and I'm \" + str(age) + ' years old' \n",
    "    "
   ]
  },
  {
   "cell_type": "markdown",
   "metadata": {},
   "source": [
    "## Methods"
   ]
  },
  {
   "cell_type": "markdown",
   "metadata": {},
   "source": [
    "Most of the things you learned about methods in Java apply to methods in Python; the biggest difference is just how you define them, while the ideas of scope, parameters, returns all apply here. An example in Java\n",
    "\n",
    "```java\n",
    "public class Methods {\n",
    "    public static void main(String[] args) {\n",
    "        sayHello();\n",
    "        System.out.println(timesTwo(3));\n",
    "    }\n",
    "    \n",
    "    public static void sayHello() {\n",
    "        System.out.println(\"Hello world\");\n",
    "    }\n",
    "    \n",
    "    public static int timesTwo(int n) {\n",
    "        return 2 * n;\n",
    "    }\n",
    "}\n",
    "// Output: \n",
    "// Hello wiorld\n",
    "// 6\n",
    "```\n",
    "\n",
    "In Python"
   ]
  },
  {
   "cell_type": "code",
   "execution_count": 6,
   "metadata": {},
   "outputs": [
    {
     "name": "stdout",
     "output_type": "stream",
     "text": [
      "Hello world\n",
      "6\n"
     ]
    }
   ],
   "source": [
    "def main():\n",
    "    say_hello()\n",
    "    print times_two(3) \n",
    "\n",
    "def say_hello():\n",
    "    print 'Hello world' \n",
    "    \n",
    "def times_two(n):\n",
    "    return 2 * n\n",
    "\n",
    "if __name__  == '__main__':\n",
    "    main()"
   ]
  },
  {
   "cell_type": "markdown",
   "metadata": {},
   "source": [
    "Notice that the naming convention in Python is `snake_case` instead of `camelCase`. As you can see, parameters and returns work the same as they do in Java except that you leave off the types in their definitions. "
   ]
  }
 ],
 "metadata": {
  "kernelspec": {
   "display_name": "Python 2",
   "language": "python",
   "name": "python2"
  },
  "language_info": {
   "codemirror_mode": {
    "name": "ipython",
    "version": 2
   },
   "file_extension": ".py",
   "mimetype": "text/x-python",
   "name": "python",
   "nbconvert_exporter": "python",
   "pygments_lexer": "ipython2",
   "version": "2.7.14"
  }
 },
 "nbformat": 4,
 "nbformat_minor": 2
}
