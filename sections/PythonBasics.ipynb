{
 "cells": [
  {
   "cell_type": "markdown",
   "metadata": {},
   "source": [
    "# Python Basics"
   ]
  },
  {
   "cell_type": "markdown",
   "metadata": {},
   "source": [
    "## Variables and Expressions"
   ]
  },
  {
   "cell_type": "markdown",
   "metadata": {},
   "source": [
    "Python has the same built-in types you are used to in Java (int, double, String). Variables are declared similarly but you don't have to explicitly list out the type of the variable like you do in Java. Mathematical expressions work basically the same as you would expect in Java.\n",
    "\n",
    "```java\n",
    "int x = 5;\n",
    "int y = 3;\n",
    "double z = 4.5;\n",
    "System.out.println(x + z - x / y);\n",
    "// Output: 8.5\n",
    "```\n",
    "\n",
    "In Python, this looks super similar with some minor differences"
   ]
  },
  {
   "cell_type": "code",
   "execution_count": 1,
   "metadata": {},
   "outputs": [
    {
     "name": "stdout",
     "output_type": "stream",
     "text": [
      "7.833333333333333\n"
     ]
    }
   ],
   "source": [
    "x = 5\n",
    "y = 3\n",
    "z = 4.5\n",
    "print(x + z - x / y)"
   ]
  },
  {
   "cell_type": "markdown",
   "metadata": {},
   "source": [
    "Notice that you don't need semicolons to separate lines! You can add them in if you want, but it's unecessary to do so. One thing that is a bit odd at first is that Python uses indentation to figure out code structure rather than forcing you to write semicolons. I'll repeat because this is so important. **Indentation matters in Python. Your code won't run if your indentation isn't consistent**"
   ]
  },
  {
   "cell_type": "markdown",
   "metadata": {},
   "source": [
    "You can see the output from the cell underneath it. Notice that the number printed by the Python program was not what we would have expected given the output of the Java program. The difference comes from `x / y` in the two programs. In Java, the division operator has different behaviors based on the type of the data: if the data on both sides are ints, then it will use integer division, otherwise it will use regular division. Python always does regular when you use the `/` operator (to avoid those annoying int division bugs). If you want to do integer division, you have to write the code as follows to use the integer-division operator `//`:"
   ]
  },
  {
   "cell_type": "code",
   "execution_count": 2,
   "metadata": {},
   "outputs": [
    {
     "name": "stdout",
     "output_type": "stream",
     "text": [
      "8.5\n"
     ]
    }
   ],
   "source": [
    "x = 5\n",
    "y = 3\n",
    "z = 4.5\n",
    "print(x + z - x // y)"
   ]
  },
  {
   "cell_type": "markdown",
   "metadata": {},
   "source": [
    "One useful operator Python provides is for exponents. In Java you write\n",
    "\n",
    "```java\n",
    "System.out.println(Math.pow(2, 3));\n",
    "```\n",
    "\n",
    "While in Python"
   ]
  },
  {
   "cell_type": "code",
   "execution_count": 3,
   "metadata": {},
   "outputs": [
    {
     "name": "stdout",
     "output_type": "stream",
     "text": [
      "8\n"
     ]
    }
   ],
   "source": [
    "print(2 ** 3)"
   ]
  },
  {
   "cell_type": "markdown",
   "metadata": {},
   "source": [
    "## Comments"
   ]
  },
  {
   "cell_type": "markdown",
   "metadata": {},
   "source": [
    "Comments in Python are a lot like they are in Java with a difference leading character. \n",
    "\n",
    "Java:\n",
    "```java\n",
    "// This is a comment\n",
    "```\n",
    "\n",
    "Python:\n",
    "```python\n",
    "# This is a comment\n",
    "```"
   ]
  },
  {
   "cell_type": "markdown",
   "metadata": {},
   "source": [
    "We will see how to define methods in the next section, but it's good to mention that it's good Python practice to use a slightly different comment character when documenting a method comment. Instead of using the `#` character, you write a method comment, you use the `\"\"\"` at the beginning and the end to make a multi-line comment like in:\n",
    "\n",
    "```python\n",
    "\"\"\"\n",
    "This is a comment that describes a method \n",
    "and it can span multiple lines\n",
    "\"\"\"\n",
    "```"
   ]
  },
  {
   "cell_type": "markdown",
   "metadata": {},
   "source": [
    "The astute reader will notice that this looks a bit like a `String` in Java, which is correct! Technically, these \"multi-line\" comments in Python are actually just `String`s that are prefixed with 3 quotes. This is why in Python you will commonly hear people say \"doc-string\" instead of \"method comment\", since it is literally a String. We will see how to work with Strings in the next section!"
   ]
  }
 ],
 "metadata": {
  "kernelspec": {
   "display_name": "Python 3",
   "language": "python",
   "name": "python3"
  },
  "language_info": {
   "codemirror_mode": {
    "name": "ipython",
    "version": 3
   },
   "file_extension": ".py",
   "mimetype": "text/x-python",
   "name": "python",
   "nbconvert_exporter": "python",
   "pygments_lexer": "ipython3",
   "version": "3.7.1"
  }
 },
 "nbformat": 4,
 "nbformat_minor": 2
}
